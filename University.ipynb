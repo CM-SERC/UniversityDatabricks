{
 "cells": [
  {
   "cell_type": "markdown",
   "metadata": {
    "application/vnd.databricks.v1+cell": {
     "cellMetadata": {
      "byteLimit": 2048000,
      "rowLimit": 10000
     },
     "inputWidgets": {},
     "nuid": "87f63a29-1d5b-47f9-be79-24e1d90a6985",
     "showTitle": false,
     "tableResultSettingsMap": {},
     "title": ""
    }
   },
   "source": [
    "#Imports"
   ]
  },
  {
   "cell_type": "code",
   "execution_count": 0,
   "metadata": {
    "application/vnd.databricks.v1+cell": {
     "cellMetadata": {
      "byteLimit": 2048000,
      "rowLimit": 10000
     },
     "inputWidgets": {},
     "nuid": "db53348e-f761-440d-a01f-3b880cb21b7d",
     "showTitle": false,
     "tableResultSettingsMap": {},
     "title": ""
    }
   },
   "outputs": [],
   "source": [
    "from pyspark.sql.functions import col, cast"
   ]
  },
  {
   "cell_type": "markdown",
   "metadata": {
    "application/vnd.databricks.v1+cell": {
     "cellMetadata": {
      "byteLimit": 2048000,
      "rowLimit": 10000
     },
     "inputWidgets": {},
     "nuid": "328c63ee-3163-4182-b15c-a3814beb0fe5",
     "showTitle": false,
     "tableResultSettingsMap": {},
     "title": ""
    }
   },
   "source": [
    "#Util functions"
   ]
  },
  {
   "cell_type": "code",
   "execution_count": 0,
   "metadata": {
    "application/vnd.databricks.v1+cell": {
     "cellMetadata": {
      "byteLimit": 2048000,
      "rowLimit": 10000
     },
     "inputWidgets": {},
     "nuid": "385224c3-a9ea-4cc1-8569-542f1bc95468",
     "showTitle": false,
     "tableResultSettingsMap": {},
     "title": ""
    }
   },
   "outputs": [],
   "source": [
    "def saveCleanDataFrameAsCSV(dataframe, filename):\n",
    "  dataframe.write.mode(\"overwrite\").csv(f'/mnt/university-data/clean-data/{filename}', header=True)\n",
    "\n",
    "def saveBusinessDataFrameAsCSV(dataframe, filename):\n",
    "  pandasDF = dataframe.toPandas()\n",
    "  pandasDF.to_csv(f'/dbfs/mnt/university-data/business-data/{filename}.csv', index=False)\n"
   ]
  },
  {
   "cell_type": "markdown",
   "metadata": {
    "application/vnd.databricks.v1+cell": {
     "cellMetadata": {
      "byteLimit": 2048000,
      "rowLimit": 10000
     },
     "inputWidgets": {},
     "nuid": "00601574-335c-423c-bda6-0958375959f4",
     "showTitle": false,
     "tableResultSettingsMap": {},
     "title": ""
    }
   },
   "source": [
    "# Mounting"
   ]
  },
  {
   "cell_type": "code",
   "execution_count": 0,
   "metadata": {
    "application/vnd.databricks.v1+cell": {
     "cellMetadata": {
      "byteLimit": 2048000,
      "rowLimit": 10000
     },
     "inputWidgets": {},
     "nuid": "fbf1a62b-e860-497e-915a-3e8425be8f8c",
     "showTitle": false,
     "tableResultSettingsMap": {},
     "title": ""
    }
   },
   "outputs": [],
   "source": [
    "mount_point = '/mnt/university-data'\n",
    "mounts = dbutils.fs.mounts()\n",
    "if len(mounts) == 0 or all(mount.mountPoint != mount_point for mount in dbutils.fs.mounts()):\n",
    "    dbutils.fs.mount(\n",
    "    source='wasbs://university-data@moviesdatas.blob.core.windows.net',\n",
    "    mount_point=mount_point,\n",
    "    extra_configs = {'fs.azure.account.key.moviesdatas.blob.core.windows.net': dbutils.secrets.get('MovieProjectScope', 'StorageAccountKey')}\n",
    ")\n",
    "\n"
   ]
  },
  {
   "cell_type": "markdown",
   "metadata": {
    "application/vnd.databricks.v1+cell": {
     "cellMetadata": {
      "byteLimit": 2048000,
      "rowLimit": 10000
     },
     "inputWidgets": {},
     "nuid": "abc66d0d-70b7-4daa-9994-10bf16a739d7",
     "showTitle": false,
     "tableResultSettingsMap": {},
     "title": ""
    }
   },
   "source": [
    "#Cleaning Data "
   ]
  },
  {
   "cell_type": "markdown",
   "metadata": {
    "application/vnd.databricks.v1+cell": {
     "cellMetadata": {
      "byteLimit": 2048000,
      "rowLimit": 10000
     },
     "inputWidgets": {},
     "nuid": "36f086bf-485e-4707-9153-71691b935d9a",
     "showTitle": false,
     "tableResultSettingsMap": {},
     "title": ""
    }
   },
   "source": [
    "##Cleaning University Rankings CSV"
   ]
  },
  {
   "cell_type": "code",
   "execution_count": 0,
   "metadata": {
    "application/vnd.databricks.v1+cell": {
     "cellMetadata": {
      "byteLimit": 2048000,
      "rowLimit": 10000
     },
     "inputWidgets": {},
     "nuid": "2b4b3943-9693-45f6-a329-fc3f1b795be5",
     "showTitle": false,
     "tableResultSettingsMap": {},
     "title": ""
    }
   },
   "outputs": [],
   "source": [
    "from pyspark.sql.functions import format_number\n",
    "\n",
    "universityRankingsDF = spark.read.csv('/mnt/university-data/raw-data/World University Rankings 2016-2025.csv', header=True, inferSchema=True)\n",
    "universityRankingsDF.display()\n",
    "# format and drop columns\n",
    "universityRankingsDFClean = universityRankingsDF.drop(\"Female to Male Ratio\")\\\n",
    "    .withColumn(\"Overall Score\", format_number(col(\"Overall Score\"), 3))\\\n",
    "    .drop(\"International Students\")\\\n",
    "    .drop(\"International Outlook\")\\\n",
    "    .drop(\"Research Quality\")\\\n",
    "    .drop(\"Research Environment\")\\\n",
    "    .drop(\"Industry Impact\")\n",
    "\n",
    "universityRankingsDFClean = universityRankingsDFClean.withColumn(\"Student Population\", col(\"Student Population\").cast(\"int\"))\n",
    "\n",
    "saveCleanDataFrameAsCSV(universityRankingsDFClean, 'universityRankings')\n",
    "universityRankingsDFClean.display()"
   ]
  },
  {
   "cell_type": "markdown",
   "metadata": {
    "application/vnd.databricks.v1+cell": {
     "cellMetadata": {
      "byteLimit": 2048000,
      "rowLimit": 10000
     },
     "inputWidgets": {},
     "nuid": "06d81900-aed9-45c0-905f-9a473eb1cff2",
     "showTitle": false,
     "tableResultSettingsMap": {},
     "title": ""
    }
   },
   "source": [
    "##Cleaning Internal Education Costs CSV"
   ]
  },
  {
   "cell_type": "code",
   "execution_count": 0,
   "metadata": {
    "application/vnd.databricks.v1+cell": {
     "cellMetadata": {
      "byteLimit": 2048000,
      "rowLimit": 10000
     },
     "inputWidgets": {},
     "nuid": "a214b234-9c06-44be-85f6-182819b4f57b",
     "showTitle": false,
     "tableResultSettingsMap": {},
     "title": ""
    }
   },
   "outputs": [],
   "source": [
    "internationalEducationCostsDF = spark.read.csv('/mnt/university-data/raw-data/International_Education_Costs.csv', header=True, inferSchema=True)\n",
    "internationalEducationCostsDFClean = internationalEducationCostsDF.drop(\"Living_Cost_Index\")\n",
    "internationalEducationCostsDFClean = internationalEducationCostsDFClean.withColumn(\"Total_Cost_USD\", col(\"Tuition_USD\") + ((col(\"Duration_Years\") * 12) * col(\"Rent_USD\")) + col(\"Visa_Fee_USD\") + (col(\"Duration_Years\") * col(\"Insurance_USD\")))\n",
    "internationalEducationCostsDFClean = internationalEducationCostsDFClean.drop(\"City\")\n",
    "\n",
    "saveCleanDataFrameAsCSV(internationalEducationCostsDFClean, 'internationalEducationCosts')\n",
    "internationalEducationCostsDFClean.display()"
   ]
  },
  {
   "cell_type": "code",
   "execution_count": 0,
   "metadata": {
    "application/vnd.databricks.v1+cell": {
     "cellMetadata": {
      "byteLimit": 2048000,
      "rowLimit": 10000
     },
     "inputWidgets": {},
     "nuid": "2562152a-06c4-499c-a32d-2548a2e44e52",
     "showTitle": true,
     "tableResultSettingsMap": {},
     "title": "Getting Ranking Max Year Value for Future Queries"
    }
   },
   "outputs": [],
   "source": [
    "#Getting max year value used in later Queries\n",
    "RANKING_MAX_YEAR = universityRankingsDFClean.select(\"Year\").agg({\"Year\": \"max\"}).collect()[0][0]"
   ]
  },
  {
   "cell_type": "markdown",
   "metadata": {
    "application/vnd.databricks.v1+cell": {
     "cellMetadata": {
      "byteLimit": 2048000,
      "rowLimit": 10000
     },
     "inputWidgets": {},
     "nuid": "54a22fd7-e9e8-453b-b610-dafc21d2b7e4",
     "showTitle": false,
     "tableResultSettingsMap": {},
     "title": ""
    }
   },
   "source": [
    "##Joining data sets"
   ]
  },
  {
   "cell_type": "code",
   "execution_count": 0,
   "metadata": {
    "application/vnd.databricks.v1+cell": {
     "cellMetadata": {
      "byteLimit": 2048000,
      "rowLimit": 10000
     },
     "inputWidgets": {},
     "nuid": "0289547d-f804-4fcc-915c-632580886d7c",
     "showTitle": false,
     "tableResultSettingsMap": {},
     "title": ""
    }
   },
   "outputs": [],
   "source": [
    "universityRankingsDFLastestYear = universityRankingsDFClean.filter(col(\"Year\") == RANKING_MAX_YEAR) \n",
    "rankingsWithCostsDF = internationalEducationCostsDFClean.join(universityRankingsDFLastestYear, internationalEducationCostsDFClean[\"University\"] == universityRankingsDFLastestYear[\"Name\"], \"inner\")\n",
    "rankingsWithCostsDF = rankingsWithCostsDF.drop(internationalEducationCostsDFClean[\"Country\"]).drop(\"Name\")\n",
    "\n",
    "saveCleanDataFrameAsCSV(rankingsWithCostsDF, 'rankingsWithCosts')\n",
    "rankingsWithCostsDF.display()"
   ]
  },
  {
   "cell_type": "markdown",
   "metadata": {
    "application/vnd.databricks.v1+cell": {
     "cellMetadata": {
      "byteLimit": 2048000,
      "rowLimit": 10000
     },
     "inputWidgets": {},
     "nuid": "90139d7e-99ee-41b8-b834-a2f82d93ed68",
     "showTitle": false,
     "tableResultSettingsMap": {},
     "title": ""
    }
   },
   "source": [
    "#Business Question"
   ]
  },
  {
   "cell_type": "markdown",
   "metadata": {
    "application/vnd.databricks.v1+cell": {
     "cellMetadata": {
      "byteLimit": 2048000,
      "rowLimit": 10000
     },
     "inputWidgets": {},
     "nuid": "3aa2e729-a2a1-493b-82b3-e45c28209d92",
     "showTitle": false,
     "tableResultSettingsMap": {},
     "title": ""
    }
   },
   "source": [
    "##Finding the Best University to Study in"
   ]
  },
  {
   "cell_type": "markdown",
   "metadata": {
    "application/vnd.databricks.v1+cell": {
     "cellMetadata": {
      "byteLimit": 2048000,
      "rowLimit": 10000
     },
     "inputWidgets": {},
     "nuid": "bcc80589-f87a-4fd2-8c80-311aba1602c2",
     "showTitle": false,
     "tableResultSettingsMap": {},
     "title": ""
    }
   },
   "source": [
    "###Best University per Country"
   ]
  },
  {
   "cell_type": "code",
   "execution_count": 0,
   "metadata": {
    "application/vnd.databricks.v1+cell": {
     "cellMetadata": {
      "byteLimit": 2048000,
      "rowLimit": 10000
     },
     "inputWidgets": {},
     "nuid": "f29436b2-24be-479c-bd53-124b8a986cad",
     "showTitle": false,
     "tableResultSettingsMap": {},
     "title": ""
    }
   },
   "outputs": [],
   "source": [
    "from pyspark.sql.window import Window\n",
    "from pyspark.sql.functions import col, row_number\n",
    "\n",
    "windowSpec = Window.partitionBy(\"Country\").orderBy(\"Rank\")\n",
    "bestRankingUniversitiesDF = universityRankingsDFClean.filter(col(\"Year\") == RANKING_MAX_YEAR) \\\n",
    "    .withColumn(\"row_number\", row_number().over(windowSpec)) \\\n",
    "    .filter(col(\"row_number\") == 1) \\\n",
    "    .drop(\"row_number\")\\\n",
    "    .orderBy(\"Rank\")\n",
    "\n",
    "saveBusinessDataFrameAsCSV(bestRankingUniversitiesDF, 'BestUniversitiesPerCountry')\n",
    "\n",
    "bestRankingUniversitiesDF.display()"
   ]
  },
  {
   "cell_type": "markdown",
   "metadata": {
    "application/vnd.databricks.v1+cell": {
     "cellMetadata": {
      "byteLimit": 2048000,
      "rowLimit": 10000
     },
     "inputWidgets": {},
     "nuid": "4177cb1d-80af-4ed2-9987-8c4375ddf7e2",
     "showTitle": false,
     "tableResultSettingsMap": {},
     "title": ""
    }
   },
   "source": [
    "###Best Country"
   ]
  },
  {
   "cell_type": "code",
   "execution_count": 0,
   "metadata": {
    "application/vnd.databricks.v1+cell": {
     "cellMetadata": {
      "byteLimit": 2048000,
      "rowLimit": 10000
     },
     "inputWidgets": {},
     "nuid": "4f346bf2-cd37-446a-9e71-af249dd48de0",
     "showTitle": false,
     "tableResultSettingsMap": {},
     "title": ""
    }
   },
   "outputs": [
    {
     "output_type": "display_data",
     "data": {
      "text/plain": [
       "Databricks visualization. Run in Databricks to view."
      ]
     },
     "metadata": {
      "application/vnd.databricks.v1.subcommand+json": {
       "baseErrorDetails": null,
       "bindings": {},
       "collapsed": false,
       "command": "from pyspark.sql.functions import avg, count, min, max\n\ncountryStatsDF = universityRankingsDFClean.filter(col(\"Year\") == RANKING_MAX_YEAR) \\\n    .groupBy(\"Country\") \\\n    .agg(\n        avg(\"Overall Score\").alias(\"Average_Score\"),\n        count(\"*\").alias(\"Number_of_Universities\"),\n        min(\"Overall Score\").alias(\"Min_Score\"),\n        max(\"Overall Score\").alias(\"Max_Score\")\n    ) \\\n    .orderBy(\"Average_Score\", ascending=False)\n\nsaveBusinessDataFrameAsCSV(countryStatsDF, 'CountryScoresLastestYear')\n\ncountryStatsDF.display()",
       "commandTitle": "Countries Rankings",
       "commandType": "auto",
       "commandVersion": 0,
       "commentThread": [],
       "commentsVisible": false,
       "contentSha256Hex": null,
       "customPlotOptions": {
        "redashChart": [
         {
          "key": "type",
          "value": "CHOROPLETH"
         },
         {
          "key": "options",
          "value": {
           "clusteringMode": "e",
           "colors": {
            "background": "#ffffff",
            "borders": "#ffffff",
            "max": "#049235",
            "min": "#E92828",
            "noValue": "#dddddd"
           },
           "keyColumn": "Country",
           "legend": {
            "alignText": "right",
            "position": "bottom-left",
            "visible": true
           },
           "mapType": "countries",
           "noValuePlaceholder": "N/A",
           "popup": {
            "enabled": true,
            "template": "Region: <b>{{ @@name }}</b>\n<br>\nValue: <b>{{ @@value }}</b>\n<br>\nNumber of Universities: <b>{{ Number_of_Universities }}</b>\n<br>\nMin Score: <b>{{ Min_Score }}</b>\n<br>\nMax Score: <b>{{ Max_Score }}</b>"
           },
           "steps": "10",
           "targetField": "name_long",
           "tooltip": {
            "enabled": true,
            "template": "<b>{{ @@name }}</b>: {{ @@value }}"
           },
           "valueColumn": "Average_Score",
           "valueFormat": "0,0.00"
          }
         }
        ]
       },
       "datasetPreviewNameToCmdIdMap": {},
       "diffDeletes": [],
       "diffInserts": [],
       "displayType": "redashChart",
       "error": null,
       "errorDetails": null,
       "errorSummary": null,
       "errorTraceType": null,
       "finishTime": 0,
       "globalVars": {},
       "guid": "",
       "height": "auto",
       "hideCommandCode": false,
       "hideCommandResult": false,
       "iPythonMetadata": null,
       "inputWidgets": {},
       "isLockedInExamMode": false,
       "latestUser": "a user",
       "latestUserId": null,
       "listResultMetadata": null,
       "metadata": {
        "byteLimit": 2048000,
        "rowLimit": 10000
       },
       "nuid": "fb7423c3-7d00-41e8-a49e-3ddd41e14b55",
       "origId": 0,
       "parentHierarchy": [],
       "pivotAggregation": null,
       "pivotColumns": null,
       "position": 14.0,
       "resultDbfsErrorMessage": null,
       "resultDbfsStatus": "INLINED_IN_TREE",
       "results": null,
       "showCommandTitle": false,
       "startTime": 0,
       "state": "input",
       "streamStates": {},
       "subcommandOptions": {},
       "submitTime": 0,
       "subtype": "tableResultSubCmd.visualization",
       "tableResultIndex": 0,
       "tableResultSettingsMap": {},
       "useConsistentColors": false,
       "version": "CommandV1",
       "width": "auto",
       "workflows": null,
       "xColumns": null,
       "yColumns": null
      }
     },
     "output_type": "display_data"
    }
   ],
   "source": [
    "from pyspark.sql.functions import avg, count, min, max\n",
    "\n",
    "countryStatsDF = universityRankingsDFClean.filter(col(\"Year\") == RANKING_MAX_YEAR) \\\n",
    "    .groupBy(\"Country\") \\\n",
    "    .agg(\n",
    "        avg(\"Overall Score\").alias(\"Average_Score\"),\n",
    "        count(\"*\").alias(\"Number_of_Universities\"),\n",
    "        min(\"Overall Score\").alias(\"Min_Score\"),\n",
    "        max(\"Overall Score\").alias(\"Max_Score\")\n",
    "    ) \\\n",
    "    .orderBy(\"Average_Score\", ascending=False)\n",
    "\n",
    "saveBusinessDataFrameAsCSV(countryStatsDF, 'CountryScoresLastestYear')\n",
    "\n",
    "countryStatsDF.display()"
   ]
  },
  {
   "cell_type": "markdown",
   "metadata": {
    "application/vnd.databricks.v1+cell": {
     "cellMetadata": {
      "byteLimit": 2048000,
      "rowLimit": 10000
     },
     "inputWidgets": {},
     "nuid": "b2507197-86c8-4b40-85a9-59dd214e4ee4",
     "showTitle": false,
     "tableResultSettingsMap": {},
     "title": ""
    }
   },
   "source": [
    "###Rankings over time"
   ]
  },
  {
   "cell_type": "markdown",
   "metadata": {
    "application/vnd.databricks.v1+cell": {
     "cellMetadata": {
      "byteLimit": 2048000,
      "rowLimit": 10000
     },
     "inputWidgets": {},
     "nuid": "caa7c4ae-c361-4c11-984e-57a2ff893a4e",
     "showTitle": false,
     "tableResultSettingsMap": {},
     "title": ""
    }
   },
   "source": [
    "###Rankings of top 10 universities Over Time"
   ]
  },
  {
   "cell_type": "code",
   "execution_count": 0,
   "metadata": {
    "application/vnd.databricks.v1+cell": {
     "cellMetadata": {
      "byteLimit": 2048000,
      "rowLimit": 10000
     },
     "inputWidgets": {},
     "nuid": "aec16300-e62b-4816-bf6d-b53cd9302c8d",
     "showTitle": false,
     "tableResultSettingsMap": {},
     "title": ""
    }
   },
   "outputs": [
    {
     "output_type": "display_data",
     "data": {
      "text/plain": [
       "Databricks visualization. Run in Databricks to view."
      ]
     },
     "metadata": {
      "application/vnd.databricks.v1.subcommand+json": {
       "baseErrorDetails": null,
       "bindings": {},
       "collapsed": false,
       "command": "%python\n__backend_agg_display_orig = display\n__backend_agg_dfs = []\ndef __backend_agg_display_new(df):\n    __backend_agg_df_modules = [\"pandas.core.frame\", \"databricks.koalas.frame\", \"pyspark.sql.dataframe\", \"pyspark.pandas.frame\", \"pyspark.sql.connect.dataframe\"]\n    if (type(df).__module__ in __backend_agg_df_modules and type(df).__name__ == 'DataFrame') or isinstance(df, list):\n        __backend_agg_dfs.append(df)\n\ndisplay = __backend_agg_display_new\n\ndef __backend_agg_user_code_fn():\n    import base64\n    exec(base64.standard_b64decode(\"ZnJvbSBweXNwYXJrLnNxbC5mdW5jdGlvbnMgaW1wb3J0IGF2ZwoKdG9wMTBVbmlzID0gdW5pdmVyc2l0eVJhbmtpbmdzREZDbGVhbi5maWx0ZXIoY29sKCJZZWFyIikgPT0gUkFOS0lOR19NQVhfWUVBUikub3JkZXJCeSgiT3ZlcmFsbCBTY29yZSIsIGFzY2VuZGluZz1GYWxzZSkubGltaXQoMTApLnNlbGVjdCgiTmFtZSIpLmNvbGxlY3QoKQoKZGlzcGxheSh0b3AxMFVuaXMpCgp1bml2ZXJzaXR5T3ZlcmFsbFNjb3JlREYgPSB1bml2ZXJzaXR5UmFua2luZ3NERkNsZWFuLmZpbHRlcihjb2woIk5hbWUiKS5pc2luKFtyb3dbJ05hbWUnXSBmb3Igcm93IGluIHRvcDEwVW5pc10pKS5ncm91cEJ5KCJOYW1lIiwgIlllYXIiKSBcCiAgICAuYWdnKGF2ZygiT3ZlcmFsbCBTY29yZSIpLmFsaWFzKCJPdmVyYWxsX1Njb3JlIikpIFwKICAgIC5vcmRlckJ5KCJOYW1lIiwgIlllYXIiKQoKc2F2ZUJ1c2luZXNzRGF0YUZyYW1lQXNDU1YodW5pdmVyc2l0eU92ZXJhbGxTY29yZURGLCAnVG9wMTBVbml2ZXJzaXRpZXNPdmVyYWxsU2NvcmVPdmVyVGltZScpCgpkaXNwbGF5KHVuaXZlcnNpdHlPdmVyYWxsU2NvcmVERik=\").decode())\n\ntry:\n    # run user code\n    __backend_agg_user_code_fn()\n\n    #reset display function\n    display = __backend_agg_display_orig\n\n    if len(__backend_agg_dfs) > 0:\n        # create a temp view\n        if type(__backend_agg_dfs[0]).__module__ == \"databricks.koalas.frame\":\n            # koalas dataframe\n            __backend_agg_dfs[0].to_spark().createOrReplaceTempView(\"DatabricksViewac4e277\")\n        elif type(__backend_agg_dfs[0]).__module__ == \"pandas.core.frame\" or isinstance(__backend_agg_dfs[0], list):\n            # pandas dataframe\n            spark.createDataFrame(__backend_agg_dfs[0]).createOrReplaceTempView(\"DatabricksViewac4e277\")\n        else:\n            __backend_agg_dfs[0].createOrReplaceTempView(\"DatabricksViewac4e277\")\n        #run backend agg\n        display(spark.sql(\"\"\"WITH q AS (select * from DatabricksViewac4e277) SELECT `Year`,SUM(`Overall_Score`) `column_1cc8479378`,`Name` FROM q GROUP BY `Name`,`Year`\"\"\"))\n    else:\n        displayHTML(\"dataframe no longer exists. If you're using dataframe.display(), use display(dataframe) instead.\")\n\n\nfinally:\n    spark.sql(\"drop view if exists DatabricksViewac4e277\")\n    display = __backend_agg_display_orig\n    del __backend_agg_display_new\n    del __backend_agg_display_orig\n    del __backend_agg_dfs\n    del __backend_agg_user_code_fn\n\n",
       "commandTitle": "Top 10 Universities Over time",
       "commandType": "auto",
       "commandVersion": 0,
       "commentThread": [],
       "commentsVisible": false,
       "contentSha256Hex": null,
       "customPlotOptions": {
        "redashChart": [
         {
          "key": "type",
          "value": "CHART"
         },
         {
          "key": "options",
          "value": {
           "alignYAxesAtZero": true,
           "coefficient": 1,
           "columnConfigurationMap": {
            "series": {
             "column": "Name",
             "id": "column_1cc8479383"
            },
            "x": {
             "column": "Year",
             "id": "column_1cc8479382"
            },
            "y": [
             {
              "column": "Overall_Score",
              "id": "column_1cc8479378",
              "transform": "SUM"
             }
            ]
           },
           "dateTimeFormat": "DD/MM/YYYY HH:mm",
           "direction": {
            "type": "counterclockwise"
           },
           "error_y": {
            "type": "data",
            "visible": true
           },
           "globalSeriesType": "line",
           "isAggregationOn": true,
           "legend": {
            "traceorder": "normal"
           },
           "missingValuesAsZero": true,
           "numberFormat": "0,0.[00000]",
           "percentFormat": "0[.]00%",
           "series": {
            "error_y": {
             "type": "data",
             "visible": true
            },
            "percentValues": false,
            "stacking": null
           },
           "seriesOptions": {
            "column_1cc8479378": {
             "type": "line"
            }
           },
           "showDataLabels": false,
           "sizemode": "diameter",
           "sortX": true,
           "sortY": true,
           "swappedAxes": false,
           "textFormat": "",
           "useAggregationsUi": true,
           "valuesOptions": {},
           "version": 2,
           "xAxis": {
            "labels": {
             "enabled": true
            },
            "type": "linear"
           },
           "yAxis": [
            {
             "title": {
              "text": "Overall Score"
             },
             "type": "-"
            },
            {
             "opposite": true,
             "type": "-"
            }
           ]
          }
         }
        ]
       },
       "datasetPreviewNameToCmdIdMap": {},
       "diffDeletes": [],
       "diffInserts": [],
       "displayType": "redashChart",
       "error": null,
       "errorDetails": null,
       "errorSummary": null,
       "errorTraceType": null,
       "finishTime": 0,
       "globalVars": {},
       "guid": "",
       "height": "auto",
       "hideCommandCode": false,
       "hideCommandResult": false,
       "iPythonMetadata": null,
       "inputWidgets": {},
       "isLockedInExamMode": false,
       "latestUser": "a user",
       "latestUserId": null,
       "listResultMetadata": null,
       "metadata": {
        "byteLimit": 2048000,
        "rowLimit": 10000
       },
       "nuid": "ffe3c49e-15a0-4d5f-939f-a8ab51621a34",
       "origId": 0,
       "parentHierarchy": [],
       "pivotAggregation": null,
       "pivotColumns": null,
       "position": 16.0,
       "resultDbfsErrorMessage": null,
       "resultDbfsStatus": "INLINED_IN_TREE",
       "results": null,
       "showCommandTitle": false,
       "startTime": 0,
       "state": "input",
       "streamStates": {},
       "subcommandOptions": {
        "queryPlan": {
         "groups": [
          {
           "column": "Year",
           "type": "column"
          },
          {
           "column": "Name",
           "type": "column"
          }
         ],
         "selects": [
          {
           "column": "Year",
           "type": "column"
          },
          {
           "alias": "column_1cc8479378",
           "args": [
            {
             "column": "Overall_Score",
             "type": "column"
            }
           ],
           "function": "SUM",
           "type": "function"
          },
          {
           "column": "Name",
           "type": "column"
          }
         ]
        }
       },
       "submitTime": 0,
       "subtype": "tableResultSubCmd.visualization",
       "tableResultIndex": 0,
       "tableResultSettingsMap": {},
       "useConsistentColors": false,
       "version": "CommandV1",
       "width": "auto",
       "workflows": null,
       "xColumns": null,
       "yColumns": null
      }
     },
     "output_type": "display_data"
    }
   ],
   "source": [
    "from pyspark.sql.functions import avg\n",
    "\n",
    "top10Unis = universityRankingsDFClean.filter(col(\"Year\") == RANKING_MAX_YEAR).orderBy(\"Overall Score\", ascending=False).limit(10).select(\"Name\").collect()\n",
    "\n",
    "universityOverallScoreDF = universityRankingsDFClean.filter(col(\"Name\").isin([row['Name'] for row in top10Unis])).groupBy(\"Name\", \"Year\") \\\n",
    "    .agg(avg(\"Overall Score\").alias(\"Overall_Score\")) \\\n",
    "    .orderBy(\"Name\", \"Year\")\n",
    "\n",
    "saveBusinessDataFrameAsCSV(universityOverallScoreDF, 'Top10UniversitiesOverallScoreOverTime')\n",
    "\n",
    "display(universityOverallScoreDF)"
   ]
  },
  {
   "cell_type": "markdown",
   "metadata": {
    "application/vnd.databricks.v1+cell": {
     "cellMetadata": {
      "byteLimit": 2048000,
      "rowLimit": 10000
     },
     "inputWidgets": {},
     "nuid": "52510051-d8fb-45bf-9887-8cf651cc3523",
     "showTitle": false,
     "tableResultSettingsMap": {},
     "title": ""
    }
   },
   "source": [
    "###Rankings of top 10 Countries Over Time"
   ]
  },
  {
   "cell_type": "code",
   "execution_count": 0,
   "metadata": {
    "application/vnd.databricks.v1+cell": {
     "cellMetadata": {
      "byteLimit": 2048000,
      "rowLimit": 10000
     },
     "inputWidgets": {},
     "nuid": "eff41397-340a-467a-9d58-ca2816ab4895",
     "showTitle": false,
     "tableResultSettingsMap": {},
     "title": ""
    }
   },
   "outputs": [
    {
     "output_type": "display_data",
     "data": {
      "text/plain": [
       "Databricks visualization. Run in Databricks to view."
      ]
     },
     "metadata": {
      "application/vnd.databricks.v1.subcommand+json": {
       "baseErrorDetails": null,
       "bindings": {},
       "collapsed": false,
       "command": "%python\n__backend_agg_display_orig = display\n__backend_agg_dfs = []\ndef __backend_agg_display_new(df):\n    __backend_agg_df_modules = [\"pandas.core.frame\", \"databricks.koalas.frame\", \"pyspark.sql.dataframe\", \"pyspark.pandas.frame\", \"pyspark.sql.connect.dataframe\"]\n    if (type(df).__module__ in __backend_agg_df_modules and type(df).__name__ == 'DataFrame') or isinstance(df, list):\n        __backend_agg_dfs.append(df)\n\ndisplay = __backend_agg_display_new\n\ndef __backend_agg_user_code_fn():\n    import base64\n    exec(base64.standard_b64decode(\"dG9wMTBDb3VudGllcyA9IGNvdW50cnlTdGF0c0RGLm9yZGVyQnkoIkF2ZXJhZ2VfU2NvcmUiLCBhc2NlbmRpbmc9RmFsc2UpLmxpbWl0KDEwKS5zZWxlY3QoIkNvdW50cnkiKS5jb2xsZWN0KCkKCmNvdW50cnlTdGF0c092ZXJUaW1lREYgPSB1bml2ZXJzaXR5UmFua2luZ3NERkNsZWFuLmZpbHRlcihjb2woIkNvdW50cnkiKS5pc2luKFtyb3dbJ0NvdW50cnknXSBmb3Igcm93IGluIHRvcDEwQ291bnRpZXNdKSkgXAogICAgLmdyb3VwQnkoIkNvdW50cnkiLCAiWWVhciIpIFwKICAgIC5hZ2coCiAgICAgICAgYXZnKCJPdmVyYWxsIFNjb3JlIikuYWxpYXMoIkF2ZXJhZ2VfU2NvcmUiKSwKICAgICAgICBtaW4oIk92ZXJhbGwgU2NvcmUiKS5hbGlhcygiTWluX1Njb3JlIiksCiAgICAgICAgbWF4KCJPdmVyYWxsIFNjb3JlIikuYWxpYXMoIk1heF9TY29yZSIpCiAgICApIFwKICAgIC5vcmRlckJ5KCJBdmVyYWdlX1Njb3JlIiwgYXNjZW5kaW5nPUZhbHNlKQoKc2F2ZUJ1c2luZXNzRGF0YUZyYW1lQXNDU1YoY291bnRyeVN0YXRzT3ZlclRpbWVERiwgJ0NvdW50cnlPdmVyYWxsU2NvcmVzT3ZlclRpbWUnKQoKY291bnRyeVN0YXRzT3ZlclRpbWVERi5kaXNwbGF5KCk=\").decode())\n\ntry:\n    # run user code\n    __backend_agg_user_code_fn()\n\n    #reset display function\n    display = __backend_agg_display_orig\n\n    if len(__backend_agg_dfs) > 0:\n        # create a temp view\n        if type(__backend_agg_dfs[0]).__module__ == \"databricks.koalas.frame\":\n            # koalas dataframe\n            __backend_agg_dfs[0].to_spark().createOrReplaceTempView(\"DatabricksView68e8db1\")\n        elif type(__backend_agg_dfs[0]).__module__ == \"pandas.core.frame\" or isinstance(__backend_agg_dfs[0], list):\n            # pandas dataframe\n            spark.createDataFrame(__backend_agg_dfs[0]).createOrReplaceTempView(\"DatabricksView68e8db1\")\n        else:\n            __backend_agg_dfs[0].createOrReplaceTempView(\"DatabricksView68e8db1\")\n        #run backend agg\n        display(spark.sql(\"\"\"WITH q AS (select * from DatabricksView68e8db1) SELECT `Year`,SUM(`Average_Score`) `column_1cc8479398`,`Country` FROM q GROUP BY `Country`,`Year`\"\"\"))\n    else:\n        displayHTML(\"dataframe no longer exists. If you're using dataframe.display(), use display(dataframe) instead.\")\n\n\nfinally:\n    spark.sql(\"drop view if exists DatabricksView68e8db1\")\n    display = __backend_agg_display_orig\n    del __backend_agg_display_new\n    del __backend_agg_display_orig\n    del __backend_agg_dfs\n    del __backend_agg_user_code_fn\n\n",
       "commandTitle": "Top 10 countries over time",
       "commandType": "auto",
       "commandVersion": 0,
       "commentThread": [],
       "commentsVisible": false,
       "contentSha256Hex": null,
       "customPlotOptions": {
        "redashChart": [
         {
          "key": "type",
          "value": "CHART"
         },
         {
          "key": "options",
          "value": {
           "alignYAxesAtZero": true,
           "coefficient": 1,
           "columnConfigurationMap": {
            "series": {
             "column": "Country",
             "id": "column_1cc8479396"
            },
            "x": {
             "column": "Year",
             "id": "column_1cc8479394"
            },
            "y": [
             {
              "column": "Average_Score",
              "id": "column_1cc8479398",
              "transform": "SUM"
             }
            ]
           },
           "dateTimeFormat": "DD/MM/YYYY HH:mm",
           "direction": {
            "type": "counterclockwise"
           },
           "error_y": {
            "type": "data",
            "visible": true
           },
           "globalSeriesType": "line",
           "isAggregationOn": true,
           "legend": {
            "traceorder": "normal"
           },
           "missingValuesAsZero": true,
           "numberFormat": "0,0.[00000]",
           "percentFormat": "0[.]00%",
           "series": {
            "error_y": {
             "type": "data",
             "visible": true
            },
            "stacking": null
           },
           "seriesOptions": {
            "column_1cc8479398": {
             "type": "line",
             "yAxis": 0
            }
           },
           "showDataLabels": false,
           "sizemode": "diameter",
           "sortX": true,
           "sortY": true,
           "swappedAxes": false,
           "textFormat": "",
           "useAggregationsUi": true,
           "valuesOptions": {},
           "version": 2,
           "xAxis": {
            "labels": {
             "enabled": true
            },
            "type": "-"
           },
           "yAxis": [
            {
             "title": {
              "text": "Average Score"
             },
             "type": "-"
            },
            {
             "opposite": true,
             "type": "-"
            }
           ]
          }
         }
        ]
       },
       "datasetPreviewNameToCmdIdMap": {},
       "diffDeletes": [],
       "diffInserts": [],
       "displayType": "redashChart",
       "error": null,
       "errorDetails": null,
       "errorSummary": null,
       "errorTraceType": null,
       "finishTime": 0,
       "globalVars": {},
       "guid": "",
       "height": "auto",
       "hideCommandCode": false,
       "hideCommandResult": false,
       "iPythonMetadata": null,
       "inputWidgets": {},
       "isLockedInExamMode": false,
       "latestUser": "a user",
       "latestUserId": null,
       "listResultMetadata": null,
       "metadata": {
        "byteLimit": 2048000,
        "rowLimit": 10000
       },
       "nuid": "1da96dc5-09a4-4bd9-8bf5-412a9dcc1c6f",
       "origId": 0,
       "parentHierarchy": [],
       "pivotAggregation": null,
       "pivotColumns": null,
       "position": 17.0,
       "resultDbfsErrorMessage": null,
       "resultDbfsStatus": "INLINED_IN_TREE",
       "results": null,
       "showCommandTitle": false,
       "startTime": 0,
       "state": "input",
       "streamStates": {},
       "subcommandOptions": {
        "queryPlan": {
         "groups": [
          {
           "column": "Year",
           "type": "column"
          },
          {
           "column": "Country",
           "type": "column"
          }
         ],
         "selects": [
          {
           "column": "Year",
           "type": "column"
          },
          {
           "alias": "column_1cc8479398",
           "args": [
            {
             "column": "Average_Score",
             "type": "column"
            }
           ],
           "function": "SUM",
           "type": "function"
          },
          {
           "column": "Country",
           "type": "column"
          }
         ]
        }
       },
       "submitTime": 0,
       "subtype": "tableResultSubCmd.visualization",
       "tableResultIndex": 0,
       "tableResultSettingsMap": {},
       "useConsistentColors": false,
       "version": "CommandV1",
       "width": "auto",
       "workflows": null,
       "xColumns": null,
       "yColumns": null
      }
     },
     "output_type": "display_data"
    }
   ],
   "source": [
    "top10Counties = countryStatsDF.orderBy(\"Average_Score\", ascending=False).limit(10).select(\"Country\").collect()\n",
    "\n",
    "countryStatsOverTimeDF = universityRankingsDFClean.filter(col(\"Country\").isin([row['Country'] for row in top10Counties])) \\\n",
    "    .groupBy(\"Country\", \"Year\") \\\n",
    "    .agg(\n",
    "        avg(\"Overall Score\").alias(\"Average_Score\"),\n",
    "        min(\"Overall Score\").alias(\"Min_Score\"),\n",
    "        max(\"Overall Score\").alias(\"Max_Score\")\n",
    "    ) \\\n",
    "    .orderBy(\"Average_Score\", ascending=False)\n",
    "\n",
    "saveBusinessDataFrameAsCSV(countryStatsOverTimeDF, 'CountryOverallScoresOverTime')\n",
    "\n",
    "countryStatsOverTimeDF.display()"
   ]
  },
  {
   "cell_type": "markdown",
   "metadata": {
    "application/vnd.databricks.v1+cell": {
     "cellMetadata": {
      "byteLimit": 2048000,
      "rowLimit": 10000
     },
     "inputWidgets": {},
     "nuid": "bfdedd6a-888e-4ca4-8c01-740a8e4c439c",
     "showTitle": false,
     "tableResultSettingsMap": {},
     "title": ""
    }
   },
   "source": [
    "##Best Cost to Ranking"
   ]
  },
  {
   "cell_type": "markdown",
   "metadata": {
    "application/vnd.databricks.v1+cell": {
     "cellMetadata": {
      "byteLimit": 2048000,
      "rowLimit": 10000
     },
     "inputWidgets": {},
     "nuid": "04f4a7fd-d71c-4ccb-8e10-5df1321dfac7",
     "showTitle": false,
     "tableResultSettingsMap": {},
     "title": ""
    }
   },
   "source": [
    "###Value for money Per country"
   ]
  },
  {
   "cell_type": "code",
   "execution_count": 0,
   "metadata": {
    "application/vnd.databricks.v1+cell": {
     "cellMetadata": {
      "byteLimit": 2048000,
      "rowLimit": 10000
     },
     "inputWidgets": {},
     "nuid": "44b46a19-e570-498c-89d8-1ef5e9465250",
     "showTitle": false,
     "tableResultSettingsMap": {},
     "title": ""
    }
   },
   "outputs": [
    {
     "output_type": "display_data",
     "data": {
      "text/plain": [
       "Databricks visualization. Run in Databricks to view."
      ]
     },
     "metadata": {
      "application/vnd.databricks.v1.subcommand+json": {
       "baseErrorDetails": null,
       "bindings": {},
       "collapsed": false,
       "command": "def rankingWithCostsForLevel(rankingDataFrame, level):\n  countryOverallScoreAverageCost = rankingDataFrame.filter(col(\"Level\") == level).groupBy(\"Country\", \"Overall Score\")\\\n  .agg(\n    avg(\"Total_Cost_USD\").alias(\"Average_Cost\"),\n  )\n\n  return countryOverallScoreAverageCost.withColumn(\"Score_to_Cost_Ratio\", col(\"Overall Score\") / (col(\"Average_Cost\") / 1000)) \\\n    .orderBy(col(\"Score_to_Cost_Ratio\"), ascending=False)\n\nbachelorRankingWithCosts = rankingWithCostsForLevel(rankingsWithCostsDF, \"Bachelor\")\nsaveBusinessDataFrameAsCSV(bachelorRankingWithCosts, 'BachelorRankingWithCosts')\nbachelorRankingWithCosts.display()\n\nmasterRankingWithCosts = rankingWithCostsForLevel(rankingsWithCostsDF, \"Master\")\nsaveBusinessDataFrameAsCSV(masterRankingWithCosts, 'MasterRankingWithCosts')\nmasterRankingWithCosts.display()\n\nphDRankingWithCosts = rankingWithCostsForLevel(rankingsWithCostsDF, \"PhD\")\nsaveBusinessDataFrameAsCSV(phDRankingWithCosts, 'phDRankingWithCosts')\nphDRankingWithCosts.display()",
       "commandTitle": "Bachelor",
       "commandType": "auto",
       "commandVersion": 0,
       "commentThread": [],
       "commentsVisible": false,
       "contentSha256Hex": null,
       "customPlotOptions": {
        "redashChart": [
         {
          "key": "type",
          "value": "CHOROPLETH"
         },
         {
          "key": "options",
          "value": {
           "clusteringMode": "e",
           "colors": {
            "background": "#ffffff",
            "borders": "#ffffff",
            "max": "#049235",
            "min": "#E92828",
            "noValue": "#dddddd"
           },
           "keyColumn": "Country",
           "legend": {
            "alignText": "right",
            "position": "bottom-left",
            "visible": true
           },
           "mapType": "countries",
           "noValuePlaceholder": "N/A",
           "popup": {
            "enabled": true,
            "template": "Region: <b>{{ @@name }}</b>\n<br>\nValue: <b>{{ @@value }}</b>"
           },
           "steps": "5",
           "targetField": "name_long",
           "tooltip": {
            "enabled": true,
            "template": "<b>{{ @@name }}</b>: {{ @@value }}"
           },
           "valueColumn": "Score_to_Cost_Ratio",
           "valueFormat": "0,0.00"
          }
         }
        ]
       },
       "datasetPreviewNameToCmdIdMap": {},
       "diffDeletes": [],
       "diffInserts": [],
       "displayType": "redashChart",
       "error": null,
       "errorDetails": null,
       "errorSummary": null,
       "errorTraceType": null,
       "finishTime": 0,
       "globalVars": {},
       "guid": "",
       "height": "auto",
       "hideCommandCode": false,
       "hideCommandResult": false,
       "iPythonMetadata": null,
       "inputWidgets": {},
       "isLockedInExamMode": false,
       "latestUser": "a user",
       "latestUserId": null,
       "listResultMetadata": null,
       "metadata": {
        "byteLimit": 2048000,
        "rowLimit": 10000
       },
       "nuid": "c24b6547-b3d7-44b7-a2b3-b9a989a69ed3",
       "origId": 0,
       "parentHierarchy": [],
       "pivotAggregation": null,
       "pivotColumns": null,
       "position": 23.0,
       "resultDbfsErrorMessage": null,
       "resultDbfsStatus": "INLINED_IN_TREE",
       "results": null,
       "showCommandTitle": false,
       "startTime": 0,
       "state": "input",
       "streamStates": {},
       "subcommandOptions": {},
       "submitTime": 0,
       "subtype": "tableResultSubCmd.visualization",
       "tableResultIndex": 0,
       "tableResultSettingsMap": {},
       "useConsistentColors": false,
       "version": "CommandV1",
       "width": "auto",
       "workflows": null,
       "xColumns": null,
       "yColumns": null
      }
     },
     "output_type": "display_data"
    },
    {
     "output_type": "display_data",
     "data": {
      "text/plain": [
       "Databricks visualization. Run in Databricks to view."
      ]
     },
     "metadata": {
      "application/vnd.databricks.v1.subcommand+json": {
       "baseErrorDetails": null,
       "bindings": {},
       "collapsed": false,
       "command": "def rankingWithCostsForLevel(rankingDataFrame, level):\n  countryOverallScoreAverageCost = rankingDataFrame.filter(col(\"Level\") == level).groupBy(\"Country\", \"Overall Score\")\\\n  .agg(\n    avg(\"Total_Cost_USD\").alias(\"Average_Cost\"),\n  )\n\n  return countryOverallScoreAverageCost.withColumn(\"Score_to_Cost_Ratio\", col(\"Overall Score\") / (col(\"Average_Cost\") / 1000)) \\\n    .orderBy(col(\"Score_to_Cost_Ratio\"), ascending=False)\n\nbachelorRankingWithCosts = rankingWithCostsForLevel(rankingsWithCostsDF, \"Bachelor\")\nsaveBusinessDataFrameAsCSV(bachelorRankingWithCosts, 'BachelorRankingWithCosts')\nbachelorRankingWithCosts.display()\n\nmasterRankingWithCosts = rankingWithCostsForLevel(rankingsWithCostsDF, \"Master\")\nsaveBusinessDataFrameAsCSV(masterRankingWithCosts, 'MasterRankingWithCosts')\nmasterRankingWithCosts.display()\n\nphDRankingWithCosts = rankingWithCostsForLevel(rankingsWithCostsDF, \"PhD\")\nsaveBusinessDataFrameAsCSV(phDRankingWithCosts, 'phDRankingWithCosts')\nphDRankingWithCosts.display()",
       "commandTitle": "PhD",
       "commandType": "auto",
       "commandVersion": 0,
       "commentThread": [],
       "commentsVisible": false,
       "contentSha256Hex": null,
       "customPlotOptions": {
        "redashChart": [
         {
          "key": "type",
          "value": "CHOROPLETH"
         },
         {
          "key": "options",
          "value": {
           "clusteringMode": "e",
           "colors": {
            "background": "#ffffff",
            "borders": "#ffffff",
            "max": "#049235",
            "min": "#E92828",
            "noValue": "#dddddd"
           },
           "keyColumn": "Country",
           "legend": {
            "alignText": "right",
            "position": "bottom-left",
            "visible": true
           },
           "mapType": "countries",
           "noValuePlaceholder": "N/A",
           "popup": {
            "enabled": true,
            "template": "Region: <b>{{ @@name }}</b>\n<br>\nValue: <b>{{ @@value }}</b>"
           },
           "steps": 5,
           "targetField": "name_long",
           "tooltip": {
            "enabled": true,
            "template": "<b>{{ @@name }}</b>: {{ @@value }}"
           },
           "valueColumn": "Score_to_Cost_Ratio",
           "valueFormat": "0,0.00"
          }
         }
        ]
       },
       "datasetPreviewNameToCmdIdMap": {},
       "diffDeletes": [],
       "diffInserts": [],
       "displayType": "redashChart",
       "error": null,
       "errorDetails": null,
       "errorSummary": null,
       "errorTraceType": null,
       "finishTime": 0,
       "globalVars": {},
       "guid": "",
       "height": "auto",
       "hideCommandCode": false,
       "hideCommandResult": false,
       "iPythonMetadata": null,
       "inputWidgets": {},
       "isLockedInExamMode": false,
       "latestUser": "a user",
       "latestUserId": null,
       "listResultMetadata": null,
       "metadata": {
        "byteLimit": 2048000,
        "rowLimit": 10000
       },
       "nuid": "468b0606-b3c5-4f37-8865-a2e1ee706ee8",
       "origId": 0,
       "parentHierarchy": [],
       "pivotAggregation": null,
       "pivotColumns": null,
       "position": 23.0,
       "resultDbfsErrorMessage": null,
       "resultDbfsStatus": "INLINED_IN_TREE",
       "results": null,
       "showCommandTitle": false,
       "startTime": 0,
       "state": "input",
       "streamStates": {},
       "subcommandOptions": {},
       "submitTime": 0,
       "subtype": "tableResultSubCmd.visualization",
       "tableResultIndex": 2,
       "tableResultSettingsMap": {},
       "useConsistentColors": false,
       "version": "CommandV1",
       "width": "auto",
       "workflows": null,
       "xColumns": null,
       "yColumns": null
      }
     },
     "output_type": "display_data"
    },
    {
     "output_type": "display_data",
     "data": {
      "text/plain": [
       "Databricks visualization. Run in Databricks to view."
      ]
     },
     "metadata": {
      "application/vnd.databricks.v1.subcommand+json": {
       "baseErrorDetails": null,
       "bindings": {},
       "collapsed": false,
       "command": "def rankingWithCostsForLevel(rankingDataFrame, level):\n  countryOverallScoreAverageCost = rankingDataFrame.filter(col(\"Level\") == level).groupBy(\"Country\", \"Overall Score\")\\\n  .agg(\n    avg(\"Total_Cost_USD\").alias(\"Average_Cost\"),\n  )\n\n  return countryOverallScoreAverageCost.withColumn(\"Score_to_Cost_Ratio\", col(\"Overall Score\") / (col(\"Average_Cost\") / 1000)) \\\n    .orderBy(col(\"Score_to_Cost_Ratio\"), ascending=False)\n\nbachelorRankingWithCosts = rankingWithCostsForLevel(rankingsWithCostsDF, \"Bachelor\")\nsaveBusinessDataFrameAsCSV(bachelorRankingWithCosts, 'BachelorRankingWithCosts')\nbachelorRankingWithCosts.display()\n\nmasterRankingWithCosts = rankingWithCostsForLevel(rankingsWithCostsDF, \"Master\")\nsaveBusinessDataFrameAsCSV(masterRankingWithCosts, 'MasterRankingWithCosts')\nmasterRankingWithCosts.display()\n\nphDRankingWithCosts = rankingWithCostsForLevel(rankingsWithCostsDF, \"PhD\")\nsaveBusinessDataFrameAsCSV(phDRankingWithCosts, 'phDRankingWithCosts')\nphDRankingWithCosts.display()",
       "commandTitle": "Master",
       "commandType": "auto",
       "commandVersion": 0,
       "commentThread": [],
       "commentsVisible": false,
       "contentSha256Hex": null,
       "customPlotOptions": {
        "redashChart": [
         {
          "key": "type",
          "value": "CHOROPLETH"
         },
         {
          "key": "options",
          "value": {
           "clusteringMode": "e",
           "colors": {
            "background": "#ffffff",
            "borders": "#ffffff",
            "max": "#049235",
            "min": "#E92828",
            "noValue": "#dddddd"
           },
           "keyColumn": "Country",
           "legend": {
            "alignText": "right",
            "position": "bottom-left",
            "visible": true
           },
           "mapType": "countries",
           "noValuePlaceholder": "N/A",
           "popup": {
            "enabled": true,
            "template": "Region: <b>{{ @@name }}</b>\n<br>\nValue: <b>{{ @@value }}</b>"
           },
           "steps": 5,
           "targetField": "name_long",
           "tooltip": {
            "enabled": true,
            "template": "<b>{{ @@name }}</b>: {{ @@value }}"
           },
           "valueColumn": "Score_to_Cost_Ratio",
           "valueFormat": "0,0.00"
          }
         }
        ]
       },
       "datasetPreviewNameToCmdIdMap": {},
       "diffDeletes": [],
       "diffInserts": [],
       "displayType": "redashChart",
       "error": null,
       "errorDetails": null,
       "errorSummary": null,
       "errorTraceType": null,
       "finishTime": 0,
       "globalVars": {},
       "guid": "",
       "height": "auto",
       "hideCommandCode": false,
       "hideCommandResult": false,
       "iPythonMetadata": null,
       "inputWidgets": {},
       "isLockedInExamMode": false,
       "latestUser": "a user",
       "latestUserId": null,
       "listResultMetadata": null,
       "metadata": {
        "byteLimit": 2048000,
        "rowLimit": 10000
       },
       "nuid": "4fbfdf5f-e54a-45ef-83af-a4560c1a8215",
       "origId": 0,
       "parentHierarchy": [],
       "pivotAggregation": null,
       "pivotColumns": null,
       "position": 23.0,
       "resultDbfsErrorMessage": null,
       "resultDbfsStatus": "INLINED_IN_TREE",
       "results": null,
       "showCommandTitle": false,
       "startTime": 0,
       "state": "input",
       "streamStates": {},
       "subcommandOptions": {},
       "submitTime": 0,
       "subtype": "tableResultSubCmd.visualization",
       "tableResultIndex": 1,
       "tableResultSettingsMap": {},
       "useConsistentColors": false,
       "version": "CommandV1",
       "width": "auto",
       "workflows": null,
       "xColumns": null,
       "yColumns": null
      }
     },
     "output_type": "display_data"
    }
   ],
   "source": [
    "def rankingWithCostsForLevel(rankingDataFrame, level):\n",
    "  countryOverallScoreAverageCost = rankingDataFrame.filter(col(\"Level\") == level).groupBy(\"Country\", \"Overall Score\")\\\n",
    "  .agg(\n",
    "    avg(\"Total_Cost_USD\").alias(\"Average_Cost\"),\n",
    "  )\n",
    "\n",
    "  return countryOverallScoreAverageCost.withColumn(\"Score_to_Cost_Ratio\", col(\"Overall Score\") / (col(\"Average_Cost\") / 1000)) \\\n",
    "    .orderBy(col(\"Score_to_Cost_Ratio\"), ascending=False)\n",
    "\n",
    "bachelorRankingWithCosts = rankingWithCostsForLevel(rankingsWithCostsDF, \"Bachelor\")\n",
    "saveBusinessDataFrameAsCSV(bachelorRankingWithCosts, 'BachelorRankingWithCosts')\n",
    "bachelorRankingWithCosts.display()\n",
    "\n",
    "masterRankingWithCosts = rankingWithCostsForLevel(rankingsWithCostsDF, \"Master\")\n",
    "saveBusinessDataFrameAsCSV(masterRankingWithCosts, 'MasterRankingWithCosts')\n",
    "masterRankingWithCosts.display()\n",
    "\n",
    "phDRankingWithCosts = rankingWithCostsForLevel(rankingsWithCostsDF, \"PhD\")\n",
    "saveBusinessDataFrameAsCSV(phDRankingWithCosts, 'phDRankingWithCosts')\n",
    "phDRankingWithCosts.display()"
   ]
  },
  {
   "cell_type": "markdown",
   "metadata": {
    "application/vnd.databricks.v1+cell": {
     "cellMetadata": {
      "byteLimit": 2048000,
      "rowLimit": 10000
     },
     "inputWidgets": {},
     "nuid": "5472b009-e0bb-4a1c-9b2c-6734723ac285",
     "showTitle": false,
     "tableResultSettingsMap": {},
     "title": ""
    }
   },
   "source": [
    "##Impact of Student staff ratio on teaching ranking"
   ]
  },
  {
   "cell_type": "code",
   "execution_count": 0,
   "metadata": {
    "application/vnd.databricks.v1+cell": {
     "cellMetadata": {
      "byteLimit": 2048000,
      "rowLimit": 10000
     },
     "inputWidgets": {},
     "nuid": "e93ed0dc-71be-4daf-bace-efe698470706",
     "showTitle": false,
     "tableResultSettingsMap": {
      "0": {
       "dataGridStateBlob": null,
       "filterBlob": "{\"filterGroups\":[],\"syncTimestamp\":1747728241217}",
       "queryPlanFiltersBlob": "[]",
       "tableResultIndex": 0
      }
     },
     "title": ""
    }
   },
   "outputs": [
    {
     "output_type": "display_data",
     "data": {
      "text/plain": [
       "Databricks visualization. Run in Databricks to view."
      ]
     },
     "metadata": {
      "application/vnd.databricks.v1.subcommand+json": {
       "baseErrorDetails": null,
       "bindings": {},
       "collapsed": false,
       "command": "%python\n__backend_agg_display_orig = display\n__backend_agg_dfs = []\ndef __backend_agg_display_new(df):\n    __backend_agg_df_modules = [\"pandas.core.frame\", \"databricks.koalas.frame\", \"pyspark.sql.dataframe\", \"pyspark.pandas.frame\", \"pyspark.sql.connect.dataframe\"]\n    if (type(df).__module__ in __backend_agg_df_modules and type(df).__name__ == 'DataFrame') or isinstance(df, list):\n        __backend_agg_dfs.append(df)\n\ndisplay = __backend_agg_display_new\n\ndef __backend_agg_user_code_fn():\n    import base64\n    exec(base64.standard_b64decode(\"ZnJvbSBweXNwYXJrLnNxbC5mdW5jdGlvbnMgaW1wb3J0IGNvbCwgYXZnCmltcG9ydCBtYXRwbG90bGliLnB5cGxvdCBhcyBwbHQKaW1wb3J0IG51bXB5IGFzIG5wCgojIEdyb3VwIGJ5IHN0dWRlbnQtdG8tc3RhZmYgcmF0aW8gYW5kIGNhbGN1bGF0ZSB0aGUgYXZlcmFnZSB0ZWFjaGluZyBzY29yZQpzdHVkZW50U3RhZmZJbXBhY3RERiA9IHJhbmtpbmdzV2l0aENvc3RzREYuZ3JvdXBCeSgiU3R1ZGVudHMgdG8gU3RhZmYgUmF0aW8iKSBcCiAgICAuYWdnKAogICAgICAgIGF2ZygiVGVhY2hpbmciKS5hbGlhcygiQXZlcmFnZV9UZWFjaGluZ19TY29yZSIpCiAgICApIFwKICAgIC5vcmRlckJ5KCJTdHVkZW50cyB0byBTdGFmZiBSYXRpbyIpCgpzYXZlQnVzaW5lc3NEYXRhRnJhbWVBc0NTVihzdHVkZW50U3RhZmZJbXBhY3RERiwgJ1N0dWRlbnRTdGFmZlJhdGlvSW1wYWN0JykKCmRpc3BsYXkoc3R1ZGVudFN0YWZmSW1wYWN0REYpCgpwYW5kYXNERiA9IHN0dWRlbnRTdGFmZkltcGFjdERGLnRvUGFuZGFzKCkKCiMgU2NhdHRlciBwbG90CnBsdC5maWd1cmUoZmlnc2l6ZT0oMTAsIDYpKQpwbHQuc2NhdHRlcihwYW5kYXNERlsiU3R1ZGVudHMgdG8gU3RhZmYgUmF0aW8iXSwgcGFuZGFzREZbIkF2ZXJhZ2VfVGVhY2hpbmdfU2NvcmUiXSwgY29sb3I9J2JsdWUnLCBsYWJlbD0nQXZlcmFnZSBUZWFjaGluZyBTY29yZScpCgojIEZpdCBhIGxpbmVhciB0cmVuZCBsaW5lCnogPSBucC5wb2x5Zml0KHBhbmRhc0RGWyJTdHVkZW50cyB0byBTdGFmZiBSYXRpbyJdLCBwYW5kYXNERlsiQXZlcmFnZV9UZWFjaGluZ19TY29yZSJdLCAxKQpwID0gbnAucG9seTFkKHopCnBsdC5wbG90KHBhbmRhc0RGWyJTdHVkZW50cyB0byBTdGFmZiBSYXRpbyJdLCBwKHBhbmRhc0RGWyJTdHVkZW50cyB0byBTdGFmZiBSYXRpbyJdKSwgY29sb3I9J3JlZCcsIGxhYmVsPSdUcmVuZCcpCgojIEFkZCBsYWJlbHMgYW5kIHRpdGxlCnBsdC54bGFiZWwoIlN0dWRlbnRzIHRvIFN0YWZmIFJhdGlvIikKcGx0LnlsYWJlbCgiQXZlcmFnZSBUZWFjaGluZyBTY29yZSIpCnBsdC50aXRsZSgiU3R1ZGVudHMgdG8gU3RhZmYgUmF0aW8gdnMuIFRlYWNoaW5nIFNjb3JlIikKcGx0LmxlZ2VuZCgpCnBsdC5ncmlkKFRydWUpCnBsdC5zaG93KCkK\").decode())\n\ntry:\n    # run user code\n    __backend_agg_user_code_fn()\n\n    #reset display function\n    display = __backend_agg_display_orig\n\n    if len(__backend_agg_dfs) > 0:\n        # create a temp view\n        if type(__backend_agg_dfs[0]).__module__ == \"databricks.koalas.frame\":\n            # koalas dataframe\n            __backend_agg_dfs[0].to_spark().createOrReplaceTempView(\"DatabricksView1a6a9bf\")\n        elif type(__backend_agg_dfs[0]).__module__ == \"pandas.core.frame\" or isinstance(__backend_agg_dfs[0], list):\n            # pandas dataframe\n            spark.createDataFrame(__backend_agg_dfs[0]).createOrReplaceTempView(\"DatabricksView1a6a9bf\")\n        else:\n            __backend_agg_dfs[0].createOrReplaceTempView(\"DatabricksView1a6a9bf\")\n        #run backend agg\n        display(spark.sql(\"\"\"WITH q AS (select * from DatabricksView1a6a9bf) SELECT `Students to Staff Ratio`,`Average_Teaching_Score` FROM q\"\"\"))\n    else:\n        displayHTML(\"dataframe no longer exists. If you're using dataframe.display(), use display(dataframe) instead.\")\n\n\nfinally:\n    spark.sql(\"drop view if exists DatabricksView1a6a9bf\")\n    display = __backend_agg_display_orig\n    del __backend_agg_display_new\n    del __backend_agg_display_orig\n    del __backend_agg_dfs\n    del __backend_agg_user_code_fn\n\n",
       "commandTitle": "Student to staff ratio vs Teaching score",
       "commandType": "auto",
       "commandVersion": 0,
       "commentThread": [],
       "commentsVisible": false,
       "contentSha256Hex": null,
       "customPlotOptions": {
        "redashChart": [
         {
          "key": "type",
          "value": "CHART"
         },
         {
          "key": "options",
          "value": {
           "alignYAxesAtZero": true,
           "coefficient": 1,
           "columnConfigurationMap": {
            "x": {
             "column": "Students to Staff Ratio",
             "id": "column_db71b519109"
            },
            "y": [
             {
              "column": "Average_Teaching_Score",
              "id": "column_db71b519110"
             }
            ]
           },
           "dateTimeFormat": "DD/MM/YYYY HH:mm",
           "direction": {
            "type": "counterclockwise"
           },
           "error_y": {
            "type": "data",
            "visible": true
           },
           "globalSeriesType": "scatter",
           "legend": {
            "traceorder": "normal"
           },
           "missingValuesAsZero": true,
           "numberFormat": "0,0.[00000]",
           "percentFormat": "0[.]00%",
           "series": {
            "error_y": {
             "type": "data",
             "visible": true
            },
            "stacking": null
           },
           "seriesOptions": {
            "column_db71b519110": {
             "name": "Average_Teaching_Score",
             "yAxis": 0
            }
           },
           "showDataLabels": false,
           "sizemode": "diameter",
           "sortX": true,
           "sortY": true,
           "swappedAxes": false,
           "textFormat": "",
           "useAggregationsUi": true,
           "valuesOptions": {},
           "version": 2,
           "xAxis": {
            "labels": {
             "enabled": true
            },
            "type": "-"
           },
           "yAxis": [
            {
             "title": {
              "text": "Average Teaching Score"
             },
             "type": "-"
            },
            {
             "opposite": true,
             "type": "-"
            }
           ]
          }
         }
        ]
       },
       "datasetPreviewNameToCmdIdMap": {},
       "diffDeletes": [],
       "diffInserts": [],
       "displayType": "redashChart",
       "error": null,
       "errorDetails": null,
       "errorSummary": null,
       "errorTraceType": null,
       "finishTime": 0,
       "globalVars": {},
       "guid": "",
       "height": "auto",
       "hideCommandCode": false,
       "hideCommandResult": false,
       "iPythonMetadata": null,
       "inputWidgets": {},
       "isLockedInExamMode": false,
       "latestUser": "a user",
       "latestUserId": null,
       "listResultMetadata": null,
       "metadata": {
        "byteLimit": 2048000,
        "rowLimit": 10000
       },
       "nuid": "dba27057-7adf-430f-907e-1d7fc47971bc",
       "origId": 0,
       "parentHierarchy": [],
       "pivotAggregation": null,
       "pivotColumns": null,
       "position": 25.0,
       "resultDbfsErrorMessage": null,
       "resultDbfsStatus": "INLINED_IN_TREE",
       "results": null,
       "showCommandTitle": false,
       "startTime": 0,
       "state": "input",
       "streamStates": {},
       "subcommandOptions": {
        "queryPlan": {
         "selects": [
          {
           "column": "Students to Staff Ratio",
           "type": "column"
          },
          {
           "column": "Average_Teaching_Score",
           "type": "column"
          }
         ]
        }
       },
       "submitTime": 0,
       "subtype": "tableResultSubCmd.visualization",
       "tableResultIndex": 0,
       "tableResultSettingsMap": {},
       "useConsistentColors": false,
       "version": "CommandV1",
       "width": "auto",
       "workflows": null,
       "xColumns": null,
       "yColumns": null
      }
     },
     "output_type": "display_data"
    }
   ],
   "source": [
    "from pyspark.sql.functions import col, avg\n",
    "import matplotlib.pyplot as plt\n",
    "import numpy as np\n",
    "\n",
    "# Group by student-to-staff ratio and calculate the average teaching score\n",
    "studentStaffImpactDF = rankingsWithCostsDF.groupBy(\"Students to Staff Ratio\") \\\n",
    "    .agg(\n",
    "        avg(\"Teaching\").alias(\"Average_Teaching_Score\")\n",
    "    ) \\\n",
    "    .orderBy(\"Students to Staff Ratio\")\n",
    "\n",
    "saveBusinessDataFrameAsCSV(studentStaffImpactDF, 'StudentStaffRatioImpact')\n",
    "\n",
    "display(studentStaffImpactDF)\n",
    "\n",
    "pandasDF = studentStaffImpactDF.toPandas()\n",
    "\n",
    "# Scatter plot\n",
    "plt.figure(figsize=(10, 6))\n",
    "plt.scatter(pandasDF[\"Students to Staff Ratio\"], pandasDF[\"Average_Teaching_Score\"], color='blue', label='Average Teaching Score')\n",
    "\n",
    "# Fit a linear trend line\n",
    "z = np.polyfit(pandasDF[\"Students to Staff Ratio\"], pandasDF[\"Average_Teaching_Score\"], 1)\n",
    "p = np.poly1d(z)\n",
    "plt.plot(pandasDF[\"Students to Staff Ratio\"], p(pandasDF[\"Students to Staff Ratio\"]), color='red', label='Trend')\n",
    "\n",
    "# Add labels and title\n",
    "plt.xlabel(\"Students to Staff Ratio\")\n",
    "plt.ylabel(\"Average Teaching Score\")\n",
    "plt.title(\"Students to Staff Ratio vs. Teaching Score\")\n",
    "plt.legend()\n",
    "plt.grid(True)\n",
    "plt.show()\n"
   ]
  }
 ],
 "metadata": {
  "application/vnd.databricks.v1+notebook": {
   "computePreferences": null,
   "dashboards": [
    {
     "elements": [
      {
       "dashboardResultIndex": null,
       "elementNUID": "1da96dc5-09a4-4bd9-8bf5-412a9dcc1c6f",
       "elementType": "command",
       "guid": "094d21a3-2cc3-4190-95bb-caae2593b812",
       "options": {
        "autoScaleImg": false,
        "scale": 0,
        "showTitle": true,
        "title": "Top 10 Counties Average Rating Over Time",
        "titleAlign": "center"
       },
       "position": {
        "height": 6,
        "width": 12,
        "x": 0,
        "y": 0,
        "z": null
       },
       "resultIndex": null
      },
      {
       "dashboardResultIndex": null,
       "elementNUID": "4fbfdf5f-e54a-45ef-83af-a4560c1a8215",
       "elementType": "command",
       "guid": "19585276-a1ff-437e-9341-c35bc13af089",
       "options": {
        "autoScaleImg": false,
        "scale": 0,
        "showTitle": true,
        "title": "Value for Money Per Country - Master",
        "titleAlign": "center"
       },
       "position": {
        "height": 6,
        "width": 12,
        "x": 12,
        "y": 6,
        "z": null
       },
       "resultIndex": null
      },
      {
       "dashboardResultIndex": null,
       "elementNUID": "c24b6547-b3d7-44b7-a2b3-b9a989a69ed3",
       "elementType": "command",
       "guid": "26c00831-dd4a-4e84-97ea-180b2cbf692c",
       "options": {
        "autoScaleImg": false,
        "scale": 0,
        "showTitle": true,
        "title": "Value for Money Per Country - Bachelor",
        "titleAlign": "center"
       },
       "position": {
        "height": 6,
        "width": 12,
        "x": 12,
        "y": 0,
        "z": null
       },
       "resultIndex": null
      },
      {
       "dashboardResultIndex": null,
       "elementNUID": "468b0606-b3c5-4f37-8865-a2e1ee706ee8",
       "elementType": "command",
       "guid": "48dc0c34-c1f9-4365-8c5a-c1ff1c081f7a",
       "options": {
        "autoScaleImg": false,
        "scale": 0,
        "showTitle": true,
        "title": "Value for Money Per Country - PhD",
        "titleAlign": "center"
       },
       "position": {
        "height": 6,
        "width": 12,
        "x": 12,
        "y": 12,
        "z": null
       },
       "resultIndex": null
      },
      {
       "dashboardResultIndex": null,
       "elementNUID": "dba27057-7adf-430f-907e-1d7fc47971bc",
       "elementType": "command",
       "guid": "4bf48c7c-d689-4470-b8e8-62a7e2ec4b79",
       "options": {
        "autoScaleImg": false,
        "scale": 0,
        "showTitle": true,
        "title": "Student to staff ratio vs Teaching score",
        "titleAlign": "center"
       },
       "position": {
        "height": 6,
        "width": 12,
        "x": 7,
        "y": 19,
        "z": null
       },
       "resultIndex": null
      },
      {
       "dashboardResultIndex": null,
       "elementNUID": "fb7423c3-7d00-41e8-a49e-3ddd41e14b55",
       "elementType": "command",
       "guid": "d8fc1013-3d33-444e-ac7f-d4b0bb9ffc85",
       "options": {
        "autoScaleImg": false,
        "scale": 0,
        "showTitle": true,
        "title": "Average Rankings per country",
        "titleAlign": "center"
       },
       "position": {
        "height": 7,
        "width": 12,
        "x": 0,
        "y": 6,
        "z": null
       },
       "resultIndex": null
      },
      {
       "dashboardResultIndex": null,
       "elementNUID": "ffe3c49e-15a0-4d5f-939f-a8ab51621a34",
       "elementType": "command",
       "guid": "f069bed3-8d04-490a-b340-74d22ee26ff7",
       "options": {
        "autoScaleImg": false,
        "scale": 0,
        "showRunButton": false,
        "showTitle": true,
        "title": "Top 10 Universities Rankings over time",
        "titleAlign": "center"
       },
       "position": {
        "height": 6,
        "width": 12,
        "x": 0,
        "y": 13,
        "z": null
       },
       "resultIndex": null
      }
     ],
     "globalVars": {},
     "guid": "",
     "layoutOption": {
      "grid": true,
      "stack": true
     },
     "nuid": "717ffe63-ca10-47c5-8bc2-27e7fb46f5a3",
     "origId": 5029684260652082,
     "title": "University Rankings",
     "version": "DashboardViewV1",
     "width": 1024
    }
   ],
   "environmentMetadata": {
    "base_environment": "",
    "environment_version": "2"
   },
   "inputWidgetPreferences": null,
   "language": "python",
   "notebookMetadata": {
    "pythonIndentUnit": 4
   },
   "notebookName": "University",
   "widgets": {}
  },
  "language_info": {
   "name": "python"
  }
 },
 "nbformat": 4,
 "nbformat_minor": 0
}
